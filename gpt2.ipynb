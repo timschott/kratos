{
  "nbformat": 4,
  "nbformat_minor": 0,
  "metadata": {
    "colab": {
      "name": "gpt2.ipynb",
      "provenance": [],
      "collapsed_sections": [],
      "authorship_tag": "ABX9TyOBZt8BRRqhvV7DCOyg1btp",
      "include_colab_link": true
    },
    "kernelspec": {
      "name": "python3",
      "display_name": "Python 3"
    },
    "accelerator": "GPU"
  },
  "cells": [
    {
      "cell_type": "markdown",
      "metadata": {
        "id": "view-in-github",
        "colab_type": "text"
      },
      "source": [
        "<a href=\"https://colab.research.google.com/github/timschott/kratos/blob/master/gpt2.ipynb\" target=\"_parent\"><img src=\"https://colab.research.google.com/assets/colab-badge.svg\" alt=\"Open In Colab\"/></a>"
      ]
    },
    {
      "cell_type": "markdown",
      "metadata": {
        "id": "EeOtICLsYJel",
        "colab_type": "text"
      },
      "source": [
        "Going to use https://www.gwern.net/GPT-2 to implement GPT-2. "
      ]
    },
    {
      "cell_type": "code",
      "metadata": {
        "id": "I9lZOa-UXqig",
        "colab_type": "code",
        "colab": {}
      },
      "source": [
        "from google.colab import drive\n",
        "drive.mount('/content/drive')"
      ],
      "execution_count": null,
      "outputs": []
    },
    {
      "cell_type": "code",
      "metadata": {
        "id": "iQ16fj7-XP_5",
        "colab_type": "code",
        "colab": {
          "base_uri": "https://localhost:8080/",
          "height": 136
        },
        "outputId": "b861e52e-b6ee-41cc-9a07-286413e70792"
      },
      "source": [
        " ## Clean up then Clone the repo\n",
        "#%pwd\n",
        "## %cd /content\n",
        "#%cd ..\n",
        "!git clone https://github.com/timschott/gpt-2\n",
        "# %cd ../\n",
        "#%cd ..\n",
        "#%rm -rf gpt-2/\n",
        "#%ls\n",
        "#%cd gpt-2/\n",
        "#%ls\n",
        "## can git pull!\n",
        "#!git pull\n",
        "## %rm -rf data/ginsburg-lines-v001.txt.npz"
      ],
      "execution_count": 2,
      "outputs": [
        {
          "output_type": "stream",
          "text": [
            "Cloning into 'gpt-2'...\n",
            "remote: Enumerating objects: 85, done.\u001b[K\n",
            "remote: Counting objects: 100% (85/85), done.\u001b[K\n",
            "remote: Compressing objects: 100% (57/57), done.\u001b[K\n",
            "remote: Total 525 (delta 56), reused 56 (delta 28), pack-reused 440\u001b[K\n",
            "Receiving objects: 100% (525/525), 4.45 MiB | 6.48 MiB/s, done.\n",
            "Resolving deltas: 100% (305/305), done.\n"
          ],
          "name": "stdout"
        }
      ]
    },
    {
      "cell_type": "code",
      "metadata": {
        "id": "95BdSog6X0xh",
        "colab_type": "code",
        "colab": {
          "base_uri": "https://localhost:8080/",
          "height": 34
        },
        "outputId": "2e6710a1-a641-4c71-c51c-1b770acee0e2"
      },
      "source": [
        "## Install stuff\n",
        "%tensorflow_version 1.x\n",
        "## !python --version\n",
        "## Kind of nice that all this stuff is already installed. \n",
        "## !pip list"
      ],
      "execution_count": null,
      "outputs": [
        {
          "output_type": "stream",
          "text": [
            "TensorFlow 1.x selected.\n"
          ],
          "name": "stdout"
        }
      ]
    },
    {
      "cell_type": "code",
      "metadata": {
        "id": "pMFmMZHfY2x5",
        "colab_type": "code",
        "colab": {
          "base_uri": "https://localhost:8080/",
          "height": 357
        },
        "outputId": "7990edab-3726-4e50-8885-56ba92151393"
      },
      "source": [
        "## make sure we have a gpu running\n",
        "## Navigate to Edit→Notebook Settings\n",
        "## select GPU from the Hardware Accelerator drop-down\n",
        "!nvidia-smi"
      ],
      "execution_count": null,
      "outputs": [
        {
          "output_type": "stream",
          "text": [
            "Wed Aug 12 21:02:32 2020       \n",
            "+-----------------------------------------------------------------------------+\n",
            "| NVIDIA-SMI 450.57       Driver Version: 418.67       CUDA Version: 10.1     |\n",
            "|-------------------------------+----------------------+----------------------+\n",
            "| GPU  Name        Persistence-M| Bus-Id        Disp.A | Volatile Uncorr. ECC |\n",
            "| Fan  Temp  Perf  Pwr:Usage/Cap|         Memory-Usage | GPU-Util  Compute M. |\n",
            "|                               |                      |               MIG M. |\n",
            "|===============================+======================+======================|\n",
            "|   0  Tesla T4            Off  | 00000000:00:04.0 Off |                    0 |\n",
            "| N/A   35C    P8     9W /  70W |      0MiB / 15079MiB |      0%      Default |\n",
            "|                               |                      |                 ERR! |\n",
            "+-------------------------------+----------------------+----------------------+\n",
            "                                                                               \n",
            "+-----------------------------------------------------------------------------+\n",
            "| Processes:                                                                  |\n",
            "|  GPU   GI   CI        PID   Type   Process name                  GPU Memory |\n",
            "|        ID   ID                                                   Usage      |\n",
            "|=============================================================================|\n",
            "|  No running processes found                                                 |\n",
            "+-----------------------------------------------------------------------------+\n"
          ],
          "name": "stdout"
        }
      ]
    },
    {
      "cell_type": "code",
      "metadata": {
        "id": "4EEDURppbTqe",
        "colab_type": "code",
        "colab": {
          "base_uri": "https://localhost:8080/",
          "height": 51
        },
        "outputId": "22346bb6-7626-4ace-a78e-677c2db20e84"
      },
      "source": [
        "# make sure we are mounted correctly\n",
        "!ls\n",
        "## cd\n",
        "%cd gpt-2/"
      ],
      "execution_count": 4,
      "outputs": [
        {
          "output_type": "stream",
          "text": [
            "drive  gpt-2  sample_data\n",
            "/content/gpt-2\n"
          ],
          "name": "stdout"
        }
      ]
    },
    {
      "cell_type": "code",
      "metadata": {
        "id": "Z2m7AP4Kbt7m",
        "colab_type": "code",
        "colab": {
          "base_uri": "https://localhost:8080/",
          "height": 136
        },
        "outputId": "5623250d-c1e8-4c5c-a9e8-89d928631153"
      },
      "source": [
        "## download the stock model (perhaps move it inside gpt-2 if you're not inside git repo)\n",
        "!python3 download_model.py 117M"
      ],
      "execution_count": 5,
      "outputs": [
        {
          "output_type": "stream",
          "text": [
            "Fetching checkpoint: 1.00kit [00:00, 890kit/s]                                                      \n",
            "Fetching encoder.json: 1.04Mit [00:00, 53.2Mit/s]                                                   \n",
            "Fetching hparams.json: 1.00kit [00:00, 821kit/s]                                                    \n",
            "Fetching model.ckpt.data-00000-of-00001: 498Mit [00:07, 71.1Mit/s]                                  \n",
            "Fetching model.ckpt.index: 6.00kit [00:00, 4.48Mit/s]                                               \n",
            "Fetching model.ckpt.meta: 472kit [00:00, 59.3Mit/s]                                                 \n",
            "Fetching vocab.bpe: 457kit [00:00, 53.8Mit/s]                                                       \n"
          ],
          "name": "stdout"
        }
      ]
    },
    {
      "cell_type": "code",
      "metadata": {
        "id": "JjH9sBqPczk3",
        "colab_type": "code",
        "colab": {}
      },
      "source": [
        "## make a data container\n",
        "!mkdir ../data"
      ],
      "execution_count": 6,
      "outputs": []
    },
    {
      "cell_type": "code",
      "metadata": {
        "id": "Kwp_kaLHjLA0",
        "colab_type": "code",
        "colab": {
          "base_uri": "https://localhost:8080/",
          "height": 85
        },
        "outputId": "a4131b01-fe31-4619-bb33-205f218c8800"
      },
      "source": [
        "#!cd gpt-2/\n",
        "# for some reason need this percent sign\n",
        "# %cd gpt-2/\n",
        "%ls"
      ],
      "execution_count": null,
      "outputs": [
        {
          "output_type": "stream",
          "text": [
            "CONTRIBUTORS.md  download_model.py  \u001b[0m\u001b[01;34mmodels\u001b[0m/           train-horovod.py\n",
            "DEVELOPERS.md    \u001b[01;32mencode.py\u001b[0m*         README.md         \u001b[01;32mtrain.py\u001b[0m*\n",
            "Dockerfile.cpu   __init__.py        requirements.txt\n",
            "Dockerfile.gpu   LICENSE            \u001b[01;34msrc\u001b[0m/\n"
          ],
          "name": "stdout"
        }
      ]
    },
    {
      "cell_type": "code",
      "metadata": {
        "id": "KNML44vpEtxJ",
        "colab_type": "code",
        "colab": {
          "base_uri": "https://localhost:8080/",
          "height": 207
        },
        "outputId": "8d09a8c4-3eaf-458c-b24c-cc86cf7aca7d"
      },
      "source": [
        "% cat ../drive/My\\ Drive/sents/GINSBURGsents.txt | head"
      ],
      "execution_count": null,
      "outputs": [
        {
          "output_type": "stream",
          "text": [
            "petitioner a member of the sincepractices law in she is also a licensed by of to \"practice public accounting\n",
            "\" addition, she is authorized by the ofa private organization, to use the trademarked designation \" \"\n",
            "ibanez referred to these credentials in her advertising and other communication with the publi she placed and next to her name in her yellow pages listing under \"\" and on her business card\n",
            "she also used those designations at the left side of her \"law \" stationery\n",
            "notwithstanding the apparently truthful nature of her communication—it is undisputed that neither her license nor her certification has been revoked—the reprimanded her for engaging in advertising\n",
            "final of the of hereinafter\n",
            "the record reveals that the has not shouldered the burden it must carry in matters of this order\n",
            "it has not demonstrated with sufficient specificity that any member of the public could have been misled by eyes\n",
            "we therefore hold that thedecision censuring is incompatible with first amendment restraints on official action\n",
            "* act, only licensed may\n"
          ],
          "name": "stdout"
        }
      ]
    },
    {
      "cell_type": "code",
      "metadata": {
        "id": "hM4gss4QdxW6",
        "colab_type": "code",
        "colab": {}
      },
      "source": [
        "## encode the sentences into the expected format\n",
        "\n",
        "# % cd gpt-2/\n",
        "# !git pull\n",
        "\n",
        "!PYTHONPATH=src ./encode.py ../drive/My\\ Drive/sents/SCALIAsents.txt ../data/scalia-lines-v001.txt.npz"
      ],
      "execution_count": null,
      "outputs": []
    },
    {
      "cell_type": "code",
      "metadata": {
        "id": "MgZ0aHQuf2Vs",
        "colab_type": "code",
        "colab": {}
      },
      "source": [
        "import tensorflow\n",
        "print(tensorflow.__version__)\n",
        "\n",
        "!pip install toposort\n",
        "!pip install hparams"
      ],
      "execution_count": null,
      "outputs": []
    },
    {
      "cell_type": "code",
      "metadata": {
        "id": "9rqlU5NXsBix",
        "colab_type": "code",
        "colab": {}
      },
      "source": [
        "%ls -ll\n",
        "#!chmod +x train.py\n"
      ],
      "execution_count": null,
      "outputs": []
    },
    {
      "cell_type": "code",
      "metadata": {
        "id": "RGLqt_C57SNM",
        "colab_type": "code",
        "colab": {}
      },
      "source": [
        "%rm -rf checkpoint\n",
        "%rm -rf samples/"
      ],
      "execution_count": 10,
      "outputs": []
    },
    {
      "cell_type": "code",
      "metadata": {
        "id": "ZNPrlZvyfVT0",
        "colab_type": "code",
        "colab": {}
      },
      "source": [
        "## get latest code and fine tune\n",
        "!git pull\n",
        "\n",
        "## fine tune the model\n",
        "## going to run for a shorter amount of time. i don't want the loss to drop below like 2. \n",
        "!PYTHONPATH=src ./train.py --model_name 117M --dataset ../data/scalia-lines-v001.txt.npz \\\n",
        "--batch_size 2 --save_every 100 --sample_every 100 \\\n",
        "--learning_rate=.003 --run_name scalia_1 --top_p .9"
      ],
      "execution_count": null,
      "outputs": []
    },
    {
      "cell_type": "code",
      "metadata": {
        "id": "yghwo9LppE2h",
        "colab_type": "code",
        "colab": {
          "base_uri": "https://localhost:8080/",
          "height": 34
        },
        "outputId": "f35295a3-4af2-4403-e846-cc2c88e7f8d3"
      },
      "source": [
        "ls checkpoint/"
      ],
      "execution_count": 12,
      "outputs": [
        {
          "output_type": "stream",
          "text": [
            "\u001b[0m\u001b[01;34mscalia_1\u001b[0m/\n"
          ],
          "name": "stdout"
        }
      ]
    },
    {
      "cell_type": "code",
      "metadata": {
        "id": "CHJSPoVApJPf",
        "colab_type": "code",
        "colab": {}
      },
      "source": [
        "mkdir ../drive/My\\ Drive/sbotus_output"
      ],
      "execution_count": 13,
      "outputs": []
    },
    {
      "cell_type": "code",
      "metadata": {
        "id": "pOb9hoe2pU7P",
        "colab_type": "code",
        "colab": {}
      },
      "source": [
        "%cp -avr checkpoint/ ../drive/My\\ Drive/sbotus_output"
      ],
      "execution_count": null,
      "outputs": []
    },
    {
      "cell_type": "code",
      "metadata": {
        "id": "isLi7sBdpxlp",
        "colab_type": "code",
        "colab": {}
      },
      "source": [
        "%cp -avr ../data/ ../drive/My\\ Drive/sbotus_output"
      ],
      "execution_count": null,
      "outputs": []
    },
    {
      "cell_type": "code",
      "metadata": {
        "id": "ll7k4cO8qEl9",
        "colab_type": "code",
        "colab": {}
      },
      "source": [
        "%cp -avr models/117M/ ../drive/My\\ Drive/sbotus_output"
      ],
      "execution_count": null,
      "outputs": []
    }
  ]
}
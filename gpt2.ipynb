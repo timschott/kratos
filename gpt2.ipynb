{
  "nbformat": 4,
  "nbformat_minor": 0,
  "metadata": {
    "colab": {
      "name": "gpt2.ipynb",
      "provenance": [],
      "collapsed_sections": [],
      "authorship_tag": "ABX9TyPX/0Kc9RGMWFnHTYSW/woN",
      "include_colab_link": true
    },
    "kernelspec": {
      "name": "python3",
      "display_name": "Python 3"
    },
    "accelerator": "GPU"
  },
  "cells": [
    {
      "cell_type": "markdown",
      "metadata": {
        "id": "view-in-github",
        "colab_type": "text"
      },
      "source": [
        "<a href=\"https://colab.research.google.com/github/timschott/kratos/blob/master/gpt2.ipynb\" target=\"_parent\"><img src=\"https://colab.research.google.com/assets/colab-badge.svg\" alt=\"Open In Colab\"/></a>"
      ]
    },
    {
      "cell_type": "markdown",
      "metadata": {
        "id": "EeOtICLsYJel",
        "colab_type": "text"
      },
      "source": [
        "Going to use https://www.gwern.net/GPT-2 to implement GPT-2. "
      ]
    },
    {
      "cell_type": "code",
      "metadata": {
        "id": "I9lZOa-UXqig",
        "colab_type": "code",
        "colab": {
          "base_uri": "https://localhost:8080/",
          "height": 122
        },
        "outputId": "308a6a0e-4add-4264-dd98-d0dd76f44d5f"
      },
      "source": [
        "from google.colab import drive\n",
        "drive.mount('/content/drive')"
      ],
      "execution_count": null,
      "outputs": [
        {
          "output_type": "stream",
          "text": [
            "Go to this URL in a browser: https://accounts.google.com/o/oauth2/auth?client_id=947318989803-6bn6qk8qdgf4n4g3pfee6491hc0brc4i.apps.googleusercontent.com&redirect_uri=urn%3aietf%3awg%3aoauth%3a2.0%3aoob&scope=email%20https%3a%2f%2fwww.googleapis.com%2fauth%2fdocs.test%20https%3a%2f%2fwww.googleapis.com%2fauth%2fdrive%20https%3a%2f%2fwww.googleapis.com%2fauth%2fdrive.photos.readonly%20https%3a%2f%2fwww.googleapis.com%2fauth%2fpeopleapi.readonly&response_type=code\n",
            "\n",
            "Enter your authorization code:\n",
            "··········\n",
            "Mounted at /content/drive\n"
          ],
          "name": "stdout"
        }
      ]
    },
    {
      "cell_type": "code",
      "metadata": {
        "id": "iQ16fj7-XP_5",
        "colab_type": "code",
        "colab": {
          "base_uri": "https://localhost:8080/",
          "height": 34
        },
        "outputId": "cbc74b00-ca66-453a-8780-283fdfb54f46"
      },
      "source": [
        " ## Clean up then Clone the repo\n",
        "#%pwd\n",
        "%cd /content\n",
        "#%cd ..\n",
        "##!git clone https://github.com/timschott/gpt-2\n",
        "# %cd ../\n",
        "#%cd ..\n",
        "#%rm -rf gpt-2/\n",
        "#%ls\n",
        "#%cd gpt-2/\n",
        "#%ls\n",
        "## can git pull!\n",
        "#!git pull\n",
        "%rm -rf data/ginsburg-lines-v001.txt.npz"
      ],
      "execution_count": 138,
      "outputs": [
        {
          "output_type": "stream",
          "text": [
            "/content\n"
          ],
          "name": "stdout"
        }
      ]
    },
    {
      "cell_type": "code",
      "metadata": {
        "id": "95BdSog6X0xh",
        "colab_type": "code",
        "colab": {}
      },
      "source": [
        "## Install stuff\n",
        "%tensorflow_version 1.x\n",
        "## !python --version\n",
        "## Kind of nice that all this stuff is already installed. \n",
        "## !pip list"
      ],
      "execution_count": null,
      "outputs": []
    },
    {
      "cell_type": "code",
      "metadata": {
        "id": "pMFmMZHfY2x5",
        "colab_type": "code",
        "colab": {
          "base_uri": "https://localhost:8080/",
          "height": 357
        },
        "outputId": "b2fe06d9-9db7-46c8-c7c7-dc7c722e4df3"
      },
      "source": [
        "## make sure we have a gpu running\n",
        "## Navigate to Edit→Notebook Settings\n",
        "## select GPU from the Hardware Accelerator drop-down\n",
        "!nvidia-smi"
      ],
      "execution_count": null,
      "outputs": [
        {
          "output_type": "stream",
          "text": [
            "Tue Aug 11 04:03:13 2020       \n",
            "+-----------------------------------------------------------------------------+\n",
            "| NVIDIA-SMI 450.57       Driver Version: 418.67       CUDA Version: 10.1     |\n",
            "|-------------------------------+----------------------+----------------------+\n",
            "| GPU  Name        Persistence-M| Bus-Id        Disp.A | Volatile Uncorr. ECC |\n",
            "| Fan  Temp  Perf  Pwr:Usage/Cap|         Memory-Usage | GPU-Util  Compute M. |\n",
            "|                               |                      |               MIG M. |\n",
            "|===============================+======================+======================|\n",
            "|   0  Tesla T4            Off  | 00000000:00:04.0 Off |                    0 |\n",
            "| N/A   41C    P8     9W /  70W |      0MiB / 15079MiB |      0%      Default |\n",
            "|                               |                      |                 ERR! |\n",
            "+-------------------------------+----------------------+----------------------+\n",
            "                                                                               \n",
            "+-----------------------------------------------------------------------------+\n",
            "| Processes:                                                                  |\n",
            "|  GPU   GI   CI        PID   Type   Process name                  GPU Memory |\n",
            "|        ID   ID                                                   Usage      |\n",
            "|=============================================================================|\n",
            "|  No running processes found                                                 |\n",
            "+-----------------------------------------------------------------------------+\n"
          ],
          "name": "stdout"
        }
      ]
    },
    {
      "cell_type": "code",
      "metadata": {
        "id": "4EEDURppbTqe",
        "colab_type": "code",
        "colab": {
          "base_uri": "https://localhost:8080/",
          "height": 68
        },
        "outputId": "34d5ff1b-18fa-40db-c914-6f835bad9e14"
      },
      "source": [
        "# make sure we are mounted correctly\n",
        "!ls"
      ],
      "execution_count": null,
      "outputs": [
        {
          "output_type": "stream",
          "text": [
            "CONTRIBUTORS.md  Dockerfile.gpu     LICENSE\t      src\n",
            "DEVELOPERS.md\t download_model.py  README.md\t      train-horovod.py\n",
            "Dockerfile.cpu\t encode.py\t    requirements.txt  train.py\n"
          ],
          "name": "stdout"
        }
      ]
    },
    {
      "cell_type": "code",
      "metadata": {
        "id": "Z2m7AP4Kbt7m",
        "colab_type": "code",
        "colab": {
          "base_uri": "https://localhost:8080/",
          "height": 136
        },
        "outputId": "7bb075d8-10b4-4f7c-cf6c-66f988f78b73"
      },
      "source": [
        "## download the stock model (then move it inside gpt-2)\n",
        "!python3 download_model.py 117M"
      ],
      "execution_count": null,
      "outputs": [
        {
          "output_type": "stream",
          "text": [
            "\rFetching checkpoint:   0%|                                              | 0.00/77.0 [00:00<?, ?it/s]\rFetching checkpoint: 1.00kit [00:00, 1.26Mit/s]                                                     \n",
            "\rFetching encoder.json:   0%|                                           | 0.00/1.04M [00:00<?, ?it/s]\rFetching encoder.json: 1.04Mit [00:00, 67.4Mit/s]                                                   \n",
            "Fetching hparams.json: 1.00kit [00:00, 1.46Mit/s]                                                   \n",
            "Fetching model.ckpt.data-00000-of-00001: 498Mit [00:05, 83.8Mit/s]                                  \n",
            "Fetching model.ckpt.index: 6.00kit [00:00, 6.84Mit/s]                                               \n",
            "Fetching model.ckpt.meta: 472kit [00:00, 38.2Mit/s]                                                 \n",
            "Fetching vocab.bpe: 457kit [00:00, 59.9Mit/s]                                                       \n"
          ],
          "name": "stdout"
        }
      ]
    },
    {
      "cell_type": "code",
      "metadata": {
        "id": "JjH9sBqPczk3",
        "colab_type": "code",
        "colab": {}
      },
      "source": [
        "## make a data container\n",
        "!mkdir data"
      ],
      "execution_count": null,
      "outputs": []
    },
    {
      "cell_type": "code",
      "metadata": {
        "id": "Kwp_kaLHjLA0",
        "colab_type": "code",
        "colab": {
          "base_uri": "https://localhost:8080/",
          "height": 68
        },
        "outputId": "74ae06da-b396-49fd-d234-c5e7dab1cc7a"
      },
      "source": [
        "#!cd gpt-2/\n",
        "# for some reason need this percent sign\n",
        "# %cd gpt-2/\n",
        "%ls"
      ],
      "execution_count": null,
      "outputs": [
        {
          "output_type": "stream",
          "text": [
            "CONTRIBUTORS.md  Dockerfile.gpu     LICENSE    requirements.txt  \u001b[0m\u001b[01;32mtrain.py\u001b[0m*\n",
            "DEVELOPERS.md    download_model.py  \u001b[01;34mmodels\u001b[0m/    \u001b[01;34msrc\u001b[0m/\n",
            "Dockerfile.cpu   \u001b[01;32mencode.py\u001b[0m*         README.md  train-horovod.py\n"
          ],
          "name": "stdout"
        }
      ]
    },
    {
      "cell_type": "code",
      "metadata": {
        "id": "KNML44vpEtxJ",
        "colab_type": "code",
        "colab": {
          "base_uri": "https://localhost:8080/",
          "height": 207
        },
        "outputId": "3de1e186-2e65-48ba-a813-643ddd63b788"
      },
      "source": [
        "% cat ../drive/My\\ Drive/sents/GINSBURGsents.txt | head"
      ],
      "execution_count": 140,
      "outputs": [
        {
          "output_type": "stream",
          "text": [
            "petitioner a member of the sincepractices law in she is also a licensed by of to \"practice public accounting\n",
            "\" addition, she is authorized by the ofa private organization, to use the trademarked designation \" \"\n",
            "ibanez referred to these credentials in her advertising and other communication with the publi she placed and next to her name in her yellow pages listing under \"\" and on her business card\n",
            "she also used those designations at the left side of her \"law \" stationery\n",
            "notwithstanding the apparently truthful nature of her communication—it is undisputed that neither her license nor her certification has been revoked—the reprimanded her for engaging in advertising\n",
            "final of the of hereinafter\n",
            "the record reveals that the has not shouldered the burden it must carry in matters of this order\n",
            "it has not demonstrated with sufficient specificity that any member of the public could have been misled by eyes\n",
            "we therefore hold that thedecision censuring is incompatible with first amendment restraints on official action\n",
            "* act, only licensed may\n"
          ],
          "name": "stdout"
        }
      ]
    },
    {
      "cell_type": "code",
      "metadata": {
        "id": "hM4gss4QdxW6",
        "colab_type": "code",
        "colab": {
          "base_uri": "https://localhost:8080/",
          "height": 156
        },
        "outputId": "9d631cf8-9177-4e08-cc62-7bb1ce87987c"
      },
      "source": [
        "## encode the sentences into the expected format\n",
        "\n",
        "% cd gpt-2/\n",
        "!git pull\n",
        "\n",
        "!PYTHONPATH=src ./encode.py ../drive/My\\ Drive/sents/FRANKFURTERsents.txt ../data/frankfurter-lines-v001.txt.npz"
      ],
      "execution_count": 141,
      "outputs": [
        {
          "output_type": "stream",
          "text": [
            "[Errno 2] No such file or directory: 'gpt-2/'\n",
            "/content/gpt-2\n",
            "Already up to date.\n",
            "2020-08-11 05:52:06.760212: I tensorflow/stream_executor/platform/default/dso_loader.cc:48] Successfully opened dynamic library libcudart.so.10.1\n",
            "Reading files\n",
            "100% 1/1 [00:01<00:00,  1.44s/it]\n",
            "Writing ../data/frankfurter-lines-v001.txt.npz\n"
          ],
          "name": "stdout"
        }
      ]
    },
    {
      "cell_type": "code",
      "metadata": {
        "id": "MgZ0aHQuf2Vs",
        "colab_type": "code",
        "colab": {
          "base_uri": "https://localhost:8080/",
          "height": 119
        },
        "outputId": "61b1d742-0677-40e9-9a82-5d1cfbd0b0b7"
      },
      "source": [
        "import tensorflow\n",
        "print(tensorflow.__version__)\n",
        "\n",
        "# !pip install toposort\n",
        "!pip install hparams"
      ],
      "execution_count": null,
      "outputs": [
        {
          "output_type": "stream",
          "text": [
            "1.15.2\n",
            "Collecting hparams\n",
            "  Downloading https://files.pythonhosted.org/packages/2f/ec/bcc7011ec23390ac0ccafd031ad9f850430390b4ed3a8b1550788b7fe586/hparams-0.3.0-py3-none-any.whl\n",
            "Requirement already satisfied: typeguard in /usr/local/lib/python3.6/dist-packages (from hparams) (2.7.1)\n",
            "Installing collected packages: hparams\n",
            "Successfully installed hparams-0.3.0\n"
          ],
          "name": "stdout"
        }
      ]
    },
    {
      "cell_type": "code",
      "metadata": {
        "id": "9rqlU5NXsBix",
        "colab_type": "code",
        "colab": {
          "base_uri": "https://localhost:8080/",
          "height": 255
        },
        "outputId": "c8aa7c8f-ee68-4b70-f808-d859ee75e98f"
      },
      "source": [
        "%ls -ll\n",
        "#!chmod +x train.py\n"
      ],
      "execution_count": null,
      "outputs": [
        {
          "output_type": "stream",
          "text": [
            "total 68\n",
            "-rw-r--r-- 1 root root   551 Aug 11 04:30 CONTRIBUTORS.md\n",
            "-rw-r--r-- 1 root root  2125 Aug 11 04:30 DEVELOPERS.md\n",
            "-rw-r--r-- 1 root root   208 Aug 11 04:30 Dockerfile.cpu\n",
            "-rw-r--r-- 1 root root   477 Aug 11 04:30 Dockerfile.gpu\n",
            "-rw-r--r-- 1 root root  1063 Aug 11 04:30 download_model.py\n",
            "-rwxr-xr-x 1 root root  1330 Aug 11 04:30 \u001b[0m\u001b[01;32mencode.py\u001b[0m*\n",
            "-rw-r--r-- 1 root root  1063 Aug 11 04:30 LICENSE\n",
            "drwxr-xr-x 3 root root  4096 Aug 11 04:30 \u001b[01;34mmodels\u001b[0m/\n",
            "-rw-r--r-- 1 root root  5163 Aug 11 04:30 README.md\n",
            "-rw-r--r-- 1 root root    72 Aug 11 04:30 requirements.txt\n",
            "drwxr-xr-x 2 root root  4096 Aug 11 04:30 \u001b[01;34msrc\u001b[0m/\n",
            "-rw-r--r-- 1 root root  6523 Aug 11 04:30 train-horovod.py\n",
            "-rwxr-xr-x 1 root root 12128 Aug 11 04:30 \u001b[01;32mtrain.py\u001b[0m*\n"
          ],
          "name": "stdout"
        }
      ]
    },
    {
      "cell_type": "code",
      "metadata": {
        "id": "ZNPrlZvyfVT0",
        "colab_type": "code",
        "colab": {
          "base_uri": "https://localhost:8080/",
          "height": 1000
        },
        "outputId": "7d643de2-419a-48b3-c6f0-761686af4f72"
      },
      "source": [
        "## get latest code and fine tune\n",
        "!git pull\n",
        "\n",
        "## fine tune the model\n",
        "!PYTHONPATH=src ./train.py --model_name 117M --dataset frankurter-lines-v001.txt.npz \\\n",
        "--batch_size 2 --save_every 1000 --sample_every 1000 \\\n",
        "--learning_rate=.0001 --top_p 0.9"
      ],
      "execution_count": 142,
      "outputs": [
        {
          "output_type": "stream",
          "text": [
            "Already up to date.\n",
            "2020-08-11 05:52:31.492442: I tensorflow/stream_executor/platform/default/dso_loader.cc:48] Successfully opened dynamic library libcudart.so.10.1\n",
            "2020-08-11 05:52:32.903609: I tensorflow/core/platform/profile_utils/cpu_utils.cc:104] CPU Frequency: 2200000000 Hz\n",
            "2020-08-11 05:52:32.903805: I tensorflow/compiler/xla/service/service.cc:168] XLA service 0x1ab2840 initialized for platform Host (this does not guarantee that XLA will be used). Devices:\n",
            "2020-08-11 05:52:32.903837: I tensorflow/compiler/xla/service/service.cc:176]   StreamExecutor device (0): Host, Default Version\n",
            "2020-08-11 05:52:32.905693: I tensorflow/stream_executor/platform/default/dso_loader.cc:48] Successfully opened dynamic library libcuda.so.1\n",
            "2020-08-11 05:52:33.044585: I tensorflow/stream_executor/cuda/cuda_gpu_executor.cc:982] successful NUMA node read from SysFS had negative value (-1), but there must be at least one NUMA node, so returning NUMA node zero\n",
            "2020-08-11 05:52:33.045230: I tensorflow/compiler/xla/service/service.cc:168] XLA service 0x1ab2a00 initialized for platform CUDA (this does not guarantee that XLA will be used). Devices:\n",
            "2020-08-11 05:52:33.045263: I tensorflow/compiler/xla/service/service.cc:176]   StreamExecutor device (0): Tesla T4, Compute Capability 7.5\n",
            "2020-08-11 05:52:33.045424: I tensorflow/stream_executor/cuda/cuda_gpu_executor.cc:982] successful NUMA node read from SysFS had negative value (-1), but there must be at least one NUMA node, so returning NUMA node zero\n",
            "2020-08-11 05:52:33.045950: I tensorflow/core/common_runtime/gpu/gpu_device.cc:1716] Found device 0 with properties: \n",
            "pciBusID: 0000:00:04.0 name: Tesla T4 computeCapability: 7.5\n",
            "coreClock: 1.59GHz coreCount: 40 deviceMemorySize: 14.73GiB deviceMemoryBandwidth: 298.08GiB/s\n",
            "2020-08-11 05:52:33.045998: I tensorflow/stream_executor/platform/default/dso_loader.cc:48] Successfully opened dynamic library libcudart.so.10.1\n",
            "2020-08-11 05:52:33.047416: I tensorflow/stream_executor/platform/default/dso_loader.cc:48] Successfully opened dynamic library libcublas.so.10\n",
            "2020-08-11 05:52:33.048944: I tensorflow/stream_executor/platform/default/dso_loader.cc:48] Successfully opened dynamic library libcufft.so.10\n",
            "2020-08-11 05:52:33.049253: I tensorflow/stream_executor/platform/default/dso_loader.cc:48] Successfully opened dynamic library libcurand.so.10\n",
            "2020-08-11 05:52:33.050674: I tensorflow/stream_executor/platform/default/dso_loader.cc:48] Successfully opened dynamic library libcusolver.so.10\n",
            "2020-08-11 05:52:33.051348: I tensorflow/stream_executor/platform/default/dso_loader.cc:48] Successfully opened dynamic library libcusparse.so.10\n",
            "2020-08-11 05:52:33.054164: I tensorflow/stream_executor/platform/default/dso_loader.cc:48] Successfully opened dynamic library libcudnn.so.7\n",
            "2020-08-11 05:52:33.054276: I tensorflow/stream_executor/cuda/cuda_gpu_executor.cc:982] successful NUMA node read from SysFS had negative value (-1), but there must be at least one NUMA node, so returning NUMA node zero\n",
            "2020-08-11 05:52:33.054799: I tensorflow/stream_executor/cuda/cuda_gpu_executor.cc:982] successful NUMA node read from SysFS had negative value (-1), but there must be at least one NUMA node, so returning NUMA node zero\n",
            "2020-08-11 05:52:33.055298: I tensorflow/core/common_runtime/gpu/gpu_device.cc:1858] Adding visible gpu devices: 0\n",
            "2020-08-11 05:52:33.055344: I tensorflow/stream_executor/platform/default/dso_loader.cc:48] Successfully opened dynamic library libcudart.so.10.1\n",
            "2020-08-11 05:52:33.642110: I tensorflow/core/common_runtime/gpu/gpu_device.cc:1257] Device interconnect StreamExecutor with strength 1 edge matrix:\n",
            "2020-08-11 05:52:33.642176: I tensorflow/core/common_runtime/gpu/gpu_device.cc:1263]      0 \n",
            "2020-08-11 05:52:33.642192: I tensorflow/core/common_runtime/gpu/gpu_device.cc:1276] 0:   N \n",
            "2020-08-11 05:52:33.642405: I tensorflow/stream_executor/cuda/cuda_gpu_executor.cc:982] successful NUMA node read from SysFS had negative value (-1), but there must be at least one NUMA node, so returning NUMA node zero\n",
            "2020-08-11 05:52:33.643045: I tensorflow/stream_executor/cuda/cuda_gpu_executor.cc:982] successful NUMA node read from SysFS had negative value (-1), but there must be at least one NUMA node, so returning NUMA node zero\n",
            "2020-08-11 05:52:33.643609: I tensorflow/core/common_runtime/gpu/gpu_device.cc:1402] Created TensorFlow device (/job:localhost/replica:0/task:0/device:GPU:0 with 13962 MB memory) -> physical GPU (device: 0, name: Tesla T4, pci bus id: 0000:00:04.0, compute capability: 7.5)\n",
            "WARNING:tensorflow:From /content/gpt-2/src/sample.py:65: to_float (from tensorflow.python.ops.math_ops) is deprecated and will be removed in a future version.\n",
            "Instructions for updating:\n",
            "Use `tf.cast` instead.\n",
            "WARNING:tensorflow:From /usr/local/lib/python3.6/dist-packages/tensorflow/python/util/dispatch.py:201: multinomial (from tensorflow.python.ops.random_ops) is deprecated and will be removed in a future version.\n",
            "Instructions for updating:\n",
            "Use `tf.random.categorical` instead.\n",
            "2020-08-11 05:52:40.730860: I tensorflow/stream_executor/cuda/cuda_gpu_executor.cc:982] successful NUMA node read from SysFS had negative value (-1), but there must be at least one NUMA node, so returning NUMA node zero\n",
            "2020-08-11 05:52:40.731438: I tensorflow/core/common_runtime/gpu/gpu_device.cc:1716] Found device 0 with properties: \n",
            "pciBusID: 0000:00:04.0 name: Tesla T4 computeCapability: 7.5\n",
            "coreClock: 1.59GHz coreCount: 40 deviceMemorySize: 14.73GiB deviceMemoryBandwidth: 298.08GiB/s\n",
            "2020-08-11 05:52:40.731494: I tensorflow/stream_executor/platform/default/dso_loader.cc:48] Successfully opened dynamic library libcudart.so.10.1\n",
            "2020-08-11 05:52:40.731538: I tensorflow/stream_executor/platform/default/dso_loader.cc:48] Successfully opened dynamic library libcublas.so.10\n",
            "2020-08-11 05:52:40.731562: I tensorflow/stream_executor/platform/default/dso_loader.cc:48] Successfully opened dynamic library libcufft.so.10\n",
            "2020-08-11 05:52:40.731582: I tensorflow/stream_executor/platform/default/dso_loader.cc:48] Successfully opened dynamic library libcurand.so.10\n",
            "2020-08-11 05:52:40.731600: I tensorflow/stream_executor/platform/default/dso_loader.cc:48] Successfully opened dynamic library libcusolver.so.10\n",
            "2020-08-11 05:52:40.731619: I tensorflow/stream_executor/platform/default/dso_loader.cc:48] Successfully opened dynamic library libcusparse.so.10\n",
            "2020-08-11 05:52:40.731639: I tensorflow/stream_executor/platform/default/dso_loader.cc:48] Successfully opened dynamic library libcudnn.so.7\n",
            "2020-08-11 05:52:40.731718: I tensorflow/stream_executor/cuda/cuda_gpu_executor.cc:982] successful NUMA node read from SysFS had negative value (-1), but there must be at least one NUMA node, so returning NUMA node zero\n",
            "2020-08-11 05:52:40.732287: I tensorflow/stream_executor/cuda/cuda_gpu_executor.cc:982] successful NUMA node read from SysFS had negative value (-1), but there must be at least one NUMA node, so returning NUMA node zero\n",
            "2020-08-11 05:52:40.732773: I tensorflow/core/common_runtime/gpu/gpu_device.cc:1858] Adding visible gpu devices: 0\n",
            "Loading checkpoint models/117M/model.ckpt\n",
            "Loading dataset...\n",
            "0it [00:00, ?it/s]\n",
            "dataset has 0 tokens\n",
            "Training...\n",
            "Traceback (most recent call last):\n",
            "  File \"./train.py\", line 289, in <module>\n",
            "    main()\n",
            "  File \"./train.py\", line 267, in main\n",
            "    feed_dict={context: sample_batch()})\n",
            "  File \"./train.py\", line 243, in sample_batch\n",
            "    return [data_sampler.sample(1024) for _ in range(args.batch_size)]\n",
            "  File \"./train.py\", line 243, in <listcomp>\n",
            "    return [data_sampler.sample(1024) for _ in range(args.batch_size)]\n",
            "  File \"/content/gpt-2/src/load_dataset.py\", line 74, in sample\n",
            "    self.chunks\n",
            "ZeroDivisionError: integer division or modulo by zero\n"
          ],
          "name": "stdout"
        }
      ]
    }
  ]
}